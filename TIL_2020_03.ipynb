{
  "nbformat": 4,
  "nbformat_minor": 0,
  "metadata": {
    "colab": {
      "name": "TIL_2020.03.ipynb",
      "provenance": [],
      "collapsed_sections": [],
      "authorship_tag": "ABX9TyNNYzCyxJtlnF4JEAjC7g2F",
      "include_colab_link": true
    },
    "kernelspec": {
      "name": "python3",
      "display_name": "Python 3"
    }
  },
  "cells": [
    {
      "cell_type": "markdown",
      "metadata": {
        "id": "view-in-github",
        "colab_type": "text"
      },
      "source": [
        "<a href=\"https://colab.research.google.com/github/YeonJun-IN/TIL-Today-I-Learned-/blob/master/TIL_2020_03.ipynb\" target=\"_parent\"><img src=\"https://colab.research.google.com/assets/colab-badge.svg\" alt=\"Open In Colab\"/></a>"
      ]
    },
    {
      "cell_type": "markdown",
      "metadata": {
        "id": "lLq82hPqNkES",
        "colab_type": "text"
      },
      "source": [
        "## 2020년 03월\n",
        "\n",
        "#### 9일\n",
        "- how to win data science competition 강의 Bagging, Boosting 듣고 정리함.\n",
        "- \n",
        "\n"
      ]
    }
  ]
}